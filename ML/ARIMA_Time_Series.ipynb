{
 "cells": [
  {
   "cell_type": "code",
   "execution_count": 81,
   "metadata": {},
   "outputs": [],
   "source": [
    "import numpy as np\n",
    "import pandas as pd\n",
    "from matplotlib import pyplot as plt\n",
    "from statsmodels.tsa.stattools import adfuller\n",
    "from statsmodels.tsa.seasonal import seasonal_decompose\n",
    "from statsmodels.tsa.arima_model import ARIMA\n",
    "from sklearn.metrics import mean_squared_error\n",
    "from sklearn.model_selection import train_test_split\n",
    "from pandas.plotting import register_matplotlib_converters\n",
    "register_matplotlib_converters()"
   ]
  },
  {
   "cell_type": "code",
   "execution_count": 19,
   "metadata": {},
   "outputs": [],
   "source": [
    "def split_sequence(sequence, n_steps):\n",
    "    X, y = list(), list()\n",
    "    for i in range(len(sequence)):\n",
    "        end_ix = i + n_steps\n",
    "        if end_ix > len(sequence)-1:\n",
    "            break\n",
    "        seq_x, seq_y = sequence[i:end_ix], sequence[end_ix]\n",
    "        X.append(seq_x)\n",
    "        y.append(seq_y)\n",
    "    return array(X), array(y)"
   ]
  },
  {
   "cell_type": "code",
   "execution_count": 77,
   "metadata": {},
   "outputs": [],
   "source": [
    "def parser(x):\n",
    "\treturn datetime.strptime(x+'20', '%m/%d/%Y')"
   ]
  },
  {
   "cell_type": "code",
   "execution_count": 79,
   "metadata": {},
   "outputs": [
    {
     "name": "stderr",
     "output_type": "stream",
     "text": [
      "D:\\Program Files (x86)\\Microsoft Visual Studio\\Shared\\Anaconda3_64\\envs\\venv\\lib\\site-packages\\ipykernel_launcher.py:2: FutureWarning: The pandas.datetime class is deprecated and will be removed from pandas in a future version. Import from datetime instead.\n",
      "  \n"
     ]
    },
    {
     "ename": "NameError",
     "evalue": "name 'train_test_split' is not defined",
     "output_type": "error",
     "traceback": [
      "\u001b[1;31m---------------------------------------------------------------------------\u001b[0m",
      "\u001b[1;31mNameError\u001b[0m                                 Traceback (most recent call last)",
      "\u001b[1;32m<ipython-input-79-da4e2897f834>\u001b[0m in \u001b[0;36m<module>\u001b[1;34m\u001b[0m\n\u001b[0;32m     34\u001b[0m     \u001b[0msp\u001b[0m \u001b[1;33m=\u001b[0m \u001b[0mint\u001b[0m\u001b[1;33m(\u001b[0m\u001b[0mlen\u001b[0m\u001b[1;33m(\u001b[0m\u001b[0mconfirmed\u001b[0m\u001b[1;33m)\u001b[0m\u001b[1;33m*\u001b[0m\u001b[1;36m0.8\u001b[0m\u001b[1;33m)\u001b[0m\u001b[1;33m\u001b[0m\u001b[1;33m\u001b[0m\u001b[0m\n\u001b[0;32m     35\u001b[0m \u001b[1;33m\u001b[0m\u001b[0m\n\u001b[1;32m---> 36\u001b[1;33m     \u001b[0mX\u001b[0m\u001b[1;33m,\u001b[0m \u001b[0my\u001b[0m \u001b[1;33m=\u001b[0m \u001b[0mtrain_test_split\u001b[0m\u001b[1;33m(\u001b[0m\u001b[0mconfirmed\u001b[0m\u001b[1;33m,\u001b[0m \u001b[0mtest_size\u001b[0m\u001b[1;33m=\u001b[0m\u001b[1;36m0.2\u001b[0m\u001b[1;33m,\u001b[0m \u001b[0mrandom_state\u001b[0m\u001b[1;33m=\u001b[0m\u001b[1;36m42\u001b[0m\u001b[1;33m)\u001b[0m\u001b[1;33m\u001b[0m\u001b[1;33m\u001b[0m\u001b[0m\n\u001b[0m\u001b[0;32m     37\u001b[0m     \u001b[0mX_r\u001b[0m\u001b[1;33m,\u001b[0m \u001b[0my_r\u001b[0m \u001b[1;33m=\u001b[0m \u001b[0mtrain_test_split\u001b[0m\u001b[1;33m(\u001b[0m\u001b[0mrecoveries\u001b[0m\u001b[1;33m,\u001b[0m \u001b[0mtest_size\u001b[0m\u001b[1;33m=\u001b[0m\u001b[1;36m0.2\u001b[0m\u001b[1;33m,\u001b[0m \u001b[0mrandom_state\u001b[0m\u001b[1;33m=\u001b[0m\u001b[1;36m42\u001b[0m\u001b[1;33m)\u001b[0m\u001b[1;33m\u001b[0m\u001b[1;33m\u001b[0m\u001b[0m\n\u001b[0;32m     38\u001b[0m     \u001b[0mX_d\u001b[0m\u001b[1;33m,\u001b[0m \u001b[0my_d\u001b[0m \u001b[1;33m=\u001b[0m \u001b[0mtrain_test_split\u001b[0m\u001b[1;33m(\u001b[0m\u001b[0mdeaths\u001b[0m\u001b[1;33m,\u001b[0m \u001b[0mtest_size\u001b[0m\u001b[1;33m=\u001b[0m\u001b[1;36m0.2\u001b[0m\u001b[1;33m,\u001b[0m \u001b[0mrandom_state\u001b[0m\u001b[1;33m=\u001b[0m\u001b[1;36m42\u001b[0m\u001b[1;33m)\u001b[0m\u001b[1;33m\u001b[0m\u001b[1;33m\u001b[0m\u001b[0m\n",
      "\u001b[1;31mNameError\u001b[0m: name 'train_test_split' is not defined"
     ]
    }
   ],
   "source": [
    "countries = ['Austria', 'Brazil', 'China', 'Czechia', 'Denmark', 'France', 'Germany', 'India', 'Italy', 'Korea_South', 'South_Africa', 'Spain', 'UK']\n",
    "# countries = ['Austria', 'Brazil', 'China', 'Czechia', 'Denmark', 'France', 'Germany', 'India', 'Italy', 'Korea_South', 'Spain', 'UK']\n",
    "results = []\n",
    "for country in countries:\n",
    "    result = {'country':'', 'conf': 0, 'dead': 0, 'recov': 0}\n",
    "    result['country'] = country\n",
    "    file = '../Data_Preprocessing/Clean/' + country + '.csv'\n",
    "    df = pd.read_csv(file, index_col = ['Date'], parse_dates = ['Date'], date_parser = parser, squeeze = True)\n",
    "    for index, row in df.iterrows():\n",
    "        df.at[index, 'Confirmed_Cases'] = float(row['Confirmed_Cases'])\n",
    "        df.at[index, 'Recoveries'] = float(row['Recoveries'])\n",
    "        df.at[index, 'Deaths'] = float(row['Deaths'])\n",
    "        \n",
    "    confirmed = df[['Confirmed_Cases']]\n",
    "    recoveries = df[['Recoveries']]\n",
    "    deaths = df[['Deaths']]\n",
    "    \n",
    "    new_header = confirmed.iloc[0]\n",
    "    confirmed = confirmed[1:]\n",
    "    confirmed.columns = new_header\n",
    "    \n",
    "    new_header = recoveries.iloc[0]\n",
    "    recoveries = recoveries[1:]\n",
    "    recoveries.columns = new_header\n",
    "    \n",
    "    new_header = deaths.iloc[0]\n",
    "    deaths = deaths[1:]\n",
    "    deaths.columns = new_header\n",
    "    \n",
    "    confirmed = confirmed.values\n",
    "    deaths = deaths.values\n",
    "    recoveries = recoveries.values\n",
    "    \n",
    "    sp = int(len(confirmed)*0.8)\n",
    "    \n",
    "    X, y = train_test_split(confirmed, test_size=0.2, random_state=42)\n",
    "    X_r, y_r = train_test_split(recoveries, test_size=0.2, random_state=42)\n",
    "    X_d, y_d = train_test_split(deaths, test_size=0.2, random_state=42)\n",
    "    \n",
    "#     X, y = confirmed[0:sp], confirmed[sp:]\n",
    "#     X_r, y_r = recoveries[0:sp], recoveries[sp:]\n",
    "#     X_d, y_d = deaths[0:sp], deaths[sp:]\n",
    "    \n",
    "    history = [a for a in X]\n",
    "    predictions = []\n",
    "    \n",
    "    for t in range(len(y)):\n",
    "        model = ARIMA(history, order=(1, 0, 0))\n",
    "        fit = model.fit(disp = 0)\n",
    "        output = fit.forecast()\n",
    "        yhat = output[0]\n",
    "        predictions.append(yhat)\n",
    "        history.append(y[t])\n",
    "    error = mean_squared_error(y, predictions)\n",
    "    result['conf'] = error\n",
    "    \n",
    "    history = [a for a in X_d]\n",
    "    predictions = []\n",
    "    \n",
    "    for t in range(len(y_d)):\n",
    "        model = ARIMA(history, order=(1, 1, 0))\n",
    "        fit = model.fit(disp = 0)\n",
    "        output = fit.forecast()\n",
    "        yhat = output[0]\n",
    "        predictions.append(yhat)\n",
    "        history.append(y_d[t])\n",
    "    error = mean_squared_error(y_d, predictions)\n",
    "    result['dead'] = error\n",
    "    \n",
    "    history = [a for a in X_r]\n",
    "    predictions = []\n",
    "    \n",
    "    for t in range(len(y_r)):\n",
    "        model = ARIMA(history, order=(1, 0, 0))\n",
    "        fit = model.fit(disp = 0)\n",
    "        output = fit.forecast()\n",
    "        yhat = output[0]\n",
    "        predictions.append(yhat)\n",
    "        history.append(y_r[t])\n",
    "    error = mean_squared_error(y_r, predictions)\n",
    "    result['recov'] = error\n",
    "    \n",
    "    results.append(result)\n",
    "    \n",
    "results"
   ]
  },
  {
   "cell_type": "code",
   "execution_count": null,
   "metadata": {},
   "outputs": [],
   "source": []
  },
  {
   "cell_type": "code",
   "execution_count": null,
   "metadata": {},
   "outputs": [],
   "source": []
  }
 ],
 "metadata": {
  "kernelspec": {
   "display_name": "Python 3",
   "language": "python",
   "name": "python3"
  },
  "language_info": {
   "codemirror_mode": {
    "name": "ipython",
    "version": 3
   },
   "file_extension": ".py",
   "mimetype": "text/x-python",
   "name": "python",
   "nbconvert_exporter": "python",
   "pygments_lexer": "ipython3",
   "version": "3.6.10"
  }
 },
 "nbformat": 4,
 "nbformat_minor": 4
}
