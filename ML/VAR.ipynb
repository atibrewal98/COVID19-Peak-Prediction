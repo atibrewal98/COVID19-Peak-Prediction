{
 "cells": [
  {
   "cell_type": "code",
   "execution_count": 1,
   "metadata": {},
   "outputs": [],
   "source": [
    "import pandas as pd\n",
    "import numpy as np\n",
    "import matplotlib.pyplot as plt\n",
    "%matplotlib inline\n",
    "\n",
    "import datetime\n",
    "# Import Statsmodels\n",
    "from statsmodels.tsa.api import VAR\n",
    "from statsmodels.tsa.stattools import adfuller\n",
    "from statsmodels.tools.eval_measures import rmse, aic"
   ]
  },
  {
   "cell_type": "code",
   "execution_count": 2,
   "metadata": {},
   "outputs": [],
   "source": [
    "def parser(x):\n",
    "    return datetime.datetime.strptime(x+'20', '%m/%d/%Y')"
   ]
  },
  {
   "cell_type": "code",
   "execution_count": 3,
   "metadata": {},
   "outputs": [],
   "source": [
    "def avg_relative_error(y, p):\n",
    "    error = 0\n",
    "    er = []\n",
    "    for i in range(len(y)):\n",
    "        if y[i] != 0 and p[i] != 0:\n",
    "            e = (((p[i] - y[i]) / max(y[i], p[i])))\n",
    "            er.append(e)\n",
    "            error += e\n",
    "    error = error / len(y)\n",
    "    return abs(error)"
   ]
  },
  {
   "cell_type": "code",
   "execution_count": 5,
   "metadata": {},
   "outputs": [
    {
     "name": "stderr",
     "output_type": "stream",
     "text": [
      "/home/ubuntu/anaconda3/envs/python3/lib/python3.6/site-packages/statsmodels/tsa/base/tsa_model.py:162: ValueWarning: No frequency information was provided, so inferred frequency D will be used.\n",
      "  % freq, ValueWarning)\n",
      "/home/ubuntu/anaconda3/envs/python3/lib/python3.6/site-packages/statsmodels/tsa/base/tsa_model.py:162: ValueWarning: No frequency information was provided, so inferred frequency D will be used.\n",
      "  % freq, ValueWarning)\n",
      "/home/ubuntu/anaconda3/envs/python3/lib/python3.6/site-packages/statsmodels/tsa/base/tsa_model.py:162: ValueWarning: No frequency information was provided, so inferred frequency D will be used.\n",
      "  % freq, ValueWarning)\n",
      "/home/ubuntu/anaconda3/envs/python3/lib/python3.6/site-packages/statsmodels/tsa/base/tsa_model.py:162: ValueWarning: No frequency information was provided, so inferred frequency D will be used.\n",
      "  % freq, ValueWarning)\n",
      "/home/ubuntu/anaconda3/envs/python3/lib/python3.6/site-packages/statsmodels/tsa/base/tsa_model.py:162: ValueWarning: No frequency information was provided, so inferred frequency D will be used.\n",
      "  % freq, ValueWarning)\n"
     ]
    },
    {
     "name": "stdout",
     "output_type": "stream",
     "text": [
      "{'country': 'US', 'conf': 0.10601946277437058, 'dead': 0.2552877196366616, 'recov': 0.1157967955989258}\n",
      "{'country': 'Australia', 'conf': 0.5245396345074986, 'dead': 0.5069902199211461, 'recov': 0.2700111632589966}\n",
      "{'country': 'Austria', 'conf': 0.4057279131458995, 'dead': 0.07340449503050571, 'recov': 0.060408610662115766}\n",
      "{'country': 'Brazil', 'conf': 0.06046913587033022, 'dead': 0.017081875368857483, 'recov': 0.09259531130340133}\n",
      "{'country': 'China', 'conf': 0.931525804988715, 'dead': 0.8551939068966494, 'recov': 0.5764020383330741}\n"
     ]
    },
    {
     "name": "stderr",
     "output_type": "stream",
     "text": [
      "/home/ubuntu/anaconda3/envs/python3/lib/python3.6/site-packages/statsmodels/tsa/base/tsa_model.py:162: ValueWarning: No frequency information was provided, so inferred frequency D will be used.\n",
      "  % freq, ValueWarning)\n",
      "/home/ubuntu/anaconda3/envs/python3/lib/python3.6/site-packages/statsmodels/tsa/base/tsa_model.py:162: ValueWarning: No frequency information was provided, so inferred frequency D will be used.\n",
      "  % freq, ValueWarning)\n",
      "/home/ubuntu/anaconda3/envs/python3/lib/python3.6/site-packages/statsmodels/tsa/base/tsa_model.py:162: ValueWarning: No frequency information was provided, so inferred frequency D will be used.\n",
      "  % freq, ValueWarning)\n",
      "/home/ubuntu/anaconda3/envs/python3/lib/python3.6/site-packages/statsmodels/tsa/base/tsa_model.py:162: ValueWarning: No frequency information was provided, so inferred frequency D will be used.\n",
      "  % freq, ValueWarning)\n"
     ]
    },
    {
     "name": "stdout",
     "output_type": "stream",
     "text": [
      "{'country': 'Czechia', 'conf': 1.2582013969283503, 'dead': 0.30977477581145685, 'recov': 0.30139343338514163}\n",
      "{'country': 'Denmark', 'conf': 0.23364711621912035, 'dead': 0.24242042784659087, 'recov': 0.03829340447496179}\n",
      "{'country': 'France', 'conf': 0.21803245412126263, 'dead': 0.269923992570582, 'recov': 0.32637829498311494}\n",
      "{'country': 'Germany', 'conf': 0.4092431237787822, 'dead': 0.5354949539962921, 'recov': 0.6050866703344022}\n"
     ]
    },
    {
     "name": "stderr",
     "output_type": "stream",
     "text": [
      "/home/ubuntu/anaconda3/envs/python3/lib/python3.6/site-packages/statsmodels/tsa/base/tsa_model.py:162: ValueWarning: No frequency information was provided, so inferred frequency D will be used.\n",
      "  % freq, ValueWarning)\n",
      "/home/ubuntu/anaconda3/envs/python3/lib/python3.6/site-packages/statsmodels/tsa/base/tsa_model.py:162: ValueWarning: No frequency information was provided, so inferred frequency D will be used.\n",
      "  % freq, ValueWarning)\n",
      "/home/ubuntu/anaconda3/envs/python3/lib/python3.6/site-packages/statsmodels/tsa/base/tsa_model.py:162: ValueWarning: No frequency information was provided, so inferred frequency D will be used.\n",
      "  % freq, ValueWarning)\n",
      "/home/ubuntu/anaconda3/envs/python3/lib/python3.6/site-packages/statsmodels/tsa/base/tsa_model.py:162: ValueWarning: No frequency information was provided, so inferred frequency D will be used.\n",
      "  % freq, ValueWarning)\n",
      "/home/ubuntu/anaconda3/envs/python3/lib/python3.6/site-packages/statsmodels/tsa/base/tsa_model.py:162: ValueWarning: No frequency information was provided, so inferred frequency D will be used.\n",
      "  % freq, ValueWarning)\n"
     ]
    },
    {
     "name": "stdout",
     "output_type": "stream",
     "text": [
      "{'country': 'India', 'conf': 0.5402730896908006, 'dead': 0.39695892776735703, 'recov': 0.1284376089145622}\n",
      "{'country': 'Italy', 'conf': 0.08506323662217798, 'dead': 0.19285530192910705, 'recov': 0.1897474524492156}\n",
      "{'country': 'Korea_South', 'conf': 0.09964780591780928, 'dead': 0.44268625189069266, 'recov': 0.4472155197115772}\n",
      "{'country': 'South_Africa', 'conf': 0.453168142883598, 'dead': 0.5031490075259724, 'recov': 0.19532228332383336}\n",
      "{'country': 'Spain', 'conf': 0.5222697718272664, 'dead': 0.5070944635739084, 'recov': 0.363028848047085}\n",
      "{'country': 'UK', 'conf': 0.5454838202642582, 'dead': 0.6038254573942733, 'recov': 0.5553429359645715}\n"
     ]
    },
    {
     "name": "stderr",
     "output_type": "stream",
     "text": [
      "/home/ubuntu/anaconda3/envs/python3/lib/python3.6/site-packages/statsmodels/tsa/base/tsa_model.py:162: ValueWarning: No frequency information was provided, so inferred frequency D will be used.\n",
      "  % freq, ValueWarning)\n"
     ]
    },
    {
     "data": {
      "text/plain": [
       "[{'country': 'US',\n",
       "  'conf': 0.10601946277437058,\n",
       "  'dead': 0.2552877196366616,\n",
       "  'recov': 0.1157967955989258},\n",
       " {'country': 'Australia',\n",
       "  'conf': 0.5245396345074986,\n",
       "  'dead': 0.5069902199211461,\n",
       "  'recov': 0.2700111632589966},\n",
       " {'country': 'Austria',\n",
       "  'conf': 0.4057279131458995,\n",
       "  'dead': 0.07340449503050571,\n",
       "  'recov': 0.060408610662115766},\n",
       " {'country': 'Brazil',\n",
       "  'conf': 0.06046913587033022,\n",
       "  'dead': 0.017081875368857483,\n",
       "  'recov': 0.09259531130340133},\n",
       " {'country': 'China',\n",
       "  'conf': 0.931525804988715,\n",
       "  'dead': 0.8551939068966494,\n",
       "  'recov': 0.5764020383330741},\n",
       " {'country': 'Czechia',\n",
       "  'conf': 1.2582013969283503,\n",
       "  'dead': 0.30977477581145685,\n",
       "  'recov': 0.30139343338514163},\n",
       " {'country': 'Denmark',\n",
       "  'conf': 0.23364711621912035,\n",
       "  'dead': 0.24242042784659087,\n",
       "  'recov': 0.03829340447496179},\n",
       " {'country': 'France',\n",
       "  'conf': 0.21803245412126263,\n",
       "  'dead': 0.269923992570582,\n",
       "  'recov': 0.32637829498311494},\n",
       " {'country': 'Germany',\n",
       "  'conf': 0.4092431237787822,\n",
       "  'dead': 0.5354949539962921,\n",
       "  'recov': 0.6050866703344022},\n",
       " {'country': 'India',\n",
       "  'conf': 0.5402730896908006,\n",
       "  'dead': 0.39695892776735703,\n",
       "  'recov': 0.1284376089145622},\n",
       " {'country': 'Italy',\n",
       "  'conf': 0.08506323662217798,\n",
       "  'dead': 0.19285530192910705,\n",
       "  'recov': 0.1897474524492156},\n",
       " {'country': 'Korea_South',\n",
       "  'conf': 0.09964780591780928,\n",
       "  'dead': 0.44268625189069266,\n",
       "  'recov': 0.4472155197115772},\n",
       " {'country': 'South_Africa',\n",
       "  'conf': 0.453168142883598,\n",
       "  'dead': 0.5031490075259724,\n",
       "  'recov': 0.19532228332383336},\n",
       " {'country': 'Spain',\n",
       "  'conf': 0.5222697718272664,\n",
       "  'dead': 0.5070944635739084,\n",
       "  'recov': 0.363028848047085},\n",
       " {'country': 'UK',\n",
       "  'conf': 0.5454838202642582,\n",
       "  'dead': 0.6038254573942733,\n",
       "  'recov': 0.5553429359645715}]"
      ]
     },
     "execution_count": 5,
     "metadata": {},
     "output_type": "execute_result"
    }
   ],
   "source": [
    "countries = ['US','Australia','Austria', 'Brazil', 'China', 'Czechia', 'Denmark', 'France', 'Germany', 'India', 'Italy', 'Korea_South', 'South_Africa', 'Spain', 'UK']\n",
    "results = []\n",
    "for country in countries:\n",
    "    result = {'country':'', 'conf': 0, 'dead': 0, 'recov': 0}\n",
    "    result['country'] = country\n",
    "    file = '../Data_Preprocessing/Clean/' + country + '.csv'\n",
    "    df = pd.read_csv(file, index_col = ['Date'], parse_dates = ['Date'], date_parser = parser, squeeze = True)\n",
    "    df = df.drop(['Country/Region', 'Online_School', 'Social_Distancing', 'Travel_Ban', 'Army_Deployed'], axis = 1)\n",
    "    train = df[:int(0.8*(len(df)))]\n",
    "    valid = df[int(0.8*(len(df))):]\n",
    "    model = VAR(endog=df)\n",
    "    model_fit = model.fit()\n",
    "    prediction = model_fit.forecast(model_fit.y, steps=len(valid))\n",
    "    preds = pd.DataFrame(prediction, columns=['Confirmed_Cases', 'Recoveries', 'Deaths'], index=df.index[-len(valid):])\n",
    "    result['conf'] = avg_relative_error(preds['Confirmed_Cases'].values, valid['Confirmed_Cases'].values)\n",
    "    result['recov'] = avg_relative_error(preds['Recoveries'].values, valid['Recoveries'].values)\n",
    "    result['dead'] = avg_relative_error(preds['Deaths'].values, valid['Deaths'].values)\n",
    "    print(result)\n",
    "    results.append(result)\n",
    "results"
   ]
  }
 ],
 "metadata": {
  "kernelspec": {
   "display_name": "Environment (conda_python3)",
   "language": "python",
   "name": "conda_python3"
  },
  "language_info": {
   "codemirror_mode": {
    "name": "ipython",
    "version": 3
   },
   "file_extension": ".py",
   "mimetype": "text/x-python",
   "name": "python",
   "nbconvert_exporter": "python",
   "pygments_lexer": "ipython3",
   "version": "3.6.10"
  }
 },
 "nbformat": 4,
 "nbformat_minor": 4
}
